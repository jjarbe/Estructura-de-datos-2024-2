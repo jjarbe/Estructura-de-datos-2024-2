{
  "nbformat": 4,
  "nbformat_minor": 0,
  "metadata": {
    "colab": {
      "provenance": [],
      "include_colab_link": true
    },
    "kernelspec": {
      "name": "python3",
      "display_name": "Python 3"
    },
    "language_info": {
      "name": "python"
    }
  },
  "cells": [
    {
      "cell_type": "markdown",
      "metadata": {
        "id": "view-in-github",
        "colab_type": "text"
      },
      "source": [
        "<a href=\"https://colab.research.google.com/github/jjarbe/Estructura-de-datos-2024-2/blob/main/Laboratorio%20%232/LAB_2_final.ipynb\" target=\"_parent\"><img src=\"https://colab.research.google.com/assets/colab-badge.svg\" alt=\"Open In Colab\"/></a>"
      ]
    },
    {
      "cell_type": "markdown",
      "source": [
        "## ***Fecha***"
      ],
      "metadata": {
        "id": "yhqzrsgEy6_k"
      }
    },
    {
      "cell_type": "code",
      "execution_count": null,
      "metadata": {
        "id": "q-w-K-s95aiN"
      },
      "outputs": [],
      "source": [
        "class Fecha:\n",
        "    def __init__(self, dd=0, mm=0, aa=0):\n",
        "        self.__dd = dd\n",
        "        self.__mm = mm\n",
        "        self.__aa = aa\n",
        "\n",
        "    def setDia(self, dd):\n",
        "        self.__dd = dd\n",
        "\n",
        "    def setMes(self, mm):\n",
        "        self.__mm = mm\n",
        "\n",
        "    def setA(self, aa):\n",
        "        self.__aa = aa\n",
        "\n",
        "    def getDia(self):\n",
        "        return self.__dd\n",
        "\n",
        "    def getMes(self):\n",
        "        return self.__mm\n",
        "\n",
        "    def getA(self):\n",
        "        return self.__aa\n",
        "\n",
        "    def __str__(self):\n",
        "        return f\"{self.__dd:02d}-{self.__mm:02d}-{self.__aa}\"\n"
      ]
    },
    {
      "cell_type": "markdown",
      "source": [
        "## ***Dirección***"
      ],
      "metadata": {
        "id": "0W7yZLhLzHlW"
      }
    },
    {
      "cell_type": "code",
      "source": [
        "class Direccion:\n",
        "    def __init__(self, calle=\"\", nomenclatura=\"\", barrio=\"\", ciudad=\"\", edificio=\"\", apto=\"\"):\n",
        "        self.__calle = calle\n",
        "        self.__nomenclatura = nomenclatura\n",
        "        self.__barrio = barrio\n",
        "        self.__ciudad = ciudad\n",
        "        self.__edificio = edificio\n",
        "        self.__apto = apto\n",
        "\n",
        "    def setCalle(self, c):\n",
        "        self.__calle = c\n",
        "\n",
        "    def setNomenclatura(self, n):\n",
        "        self.__nomenclatura = n\n",
        "\n",
        "    def setBarrio(self, b):\n",
        "        self.__barrio = b\n",
        "\n",
        "    def setCiudad(self, ci):\n",
        "        self.__ciudad = ci\n",
        "\n",
        "    def setEdificio(self, e):\n",
        "        self.__edificio = e\n",
        "\n",
        "    def setApto(self, a):\n",
        "        self.__apto = a\n",
        "\n",
        "    def getCalle(self):\n",
        "        return self.__calle\n",
        "\n",
        "    def getNomenclatura(self):\n",
        "        return self.__nomenclatura\n",
        "\n",
        "    def getBarrio(self):\n",
        "        return self.__barrio\n",
        "\n",
        "    def getCiudad(self):\n",
        "        return self.__ciudad\n",
        "\n",
        "    def getEdificio(self):\n",
        "        return self.__edificio\n",
        "\n",
        "    def getApto(self):\n",
        "        return self.__apto\n",
        "\n",
        "    def __str__(self):\n",
        "        return f\"{self.__calle}, {self.__nomenclatura}, {self.__barrio}, {self.__ciudad}, Edificio {self.__edificio}, Apto {self.__apto}\"\n"
      ],
      "metadata": {
        "id": "SHMt1BWk9970"
      },
      "execution_count": null,
      "outputs": []
    },
    {
      "cell_type": "markdown",
      "source": [
        "## ***Usuario***"
      ],
      "metadata": {
        "id": "1FdxdZUizMfk"
      }
    },
    {
      "cell_type": "code",
      "source": [
        "class Usuario:\n",
        "    def __init__(self, nombre=\"\", id=0, fecha_nacimiento=None, ciudad_nacimiento=\"\", tel=0, email=\"\", direccion=None):\n",
        "        self.__nombre = nombre\n",
        "        self.__id = id\n",
        "        self.__fecha_nacimiento = fecha_nacimiento if fecha_nacimiento else Fecha()\n",
        "        self.__ciudad_nacimiento = ciudad_nacimiento\n",
        "        self.__tel = tel\n",
        "        self.__email = email\n",
        "        self.__direccion = direccion if direccion else Direccion()\n",
        "\n",
        "    def setNombre(self, n):\n",
        "        self.__nombre = n\n",
        "\n",
        "    def setId(self, id):\n",
        "        self.__id = id\n",
        "\n",
        "    def setFecha_nacimiento(self, f):\n",
        "        self.__fecha_nacimiento = f\n",
        "\n",
        "    def setCiudad_nacimiento(self, c):\n",
        "        self.__ciudad_nacimiento = c\n",
        "\n",
        "    def setTel(self, t):\n",
        "        self.__tel = t\n",
        "\n",
        "    def setEmail(self, e):\n",
        "        self.__email = e\n",
        "\n",
        "    def setDir(self, d):\n",
        "        self.__direccion = d\n",
        "\n",
        "    def getNombre(self):\n",
        "        return self.__nombre\n",
        "\n",
        "    def getId(self):\n",
        "        return self.__id\n",
        "\n",
        "    def getFecha_nacimiento(self):\n",
        "        return self.__fecha_nacimiento\n",
        "\n",
        "    def getCiudad_nacimiento(self):\n",
        "        return self.__ciudad_nacimiento\n",
        "\n",
        "    def getTel(self):\n",
        "        return self.__tel\n",
        "\n",
        "    def getEmail(self):\n",
        "        return self.__email\n",
        "\n",
        "    def getDir(self):\n",
        "        return self.__direccion\n",
        "\n",
        "    def __str__(self):\n",
        "        return (f\"Nombre: {self.__nombre}\\n\"\n",
        "                f\"ID: {self.__id}\\n\"\n",
        "                f\"Fecha de Nacimiento: {self.__fecha_nacimiento}\\n\"\n",
        "                f\"Ciudad de Nacimiento: {self.__ciudad_nacimiento}\\n\"\n",
        "                f\"Teléfono: {self.__tel}\\n\"\n",
        "                f\"Email: {self.__email}\\n\"\n",
        "                f\"Dirección: {self.__direccion}\")\n"
      ],
      "metadata": {
        "id": "1-v-97nj-OY8"
      },
      "execution_count": null,
      "outputs": []
    },
    {
      "cell_type": "markdown",
      "source": [
        "## ***MAIN***"
      ],
      "metadata": {
        "id": "3bUjwXKpz8ZP"
      }
    },
    {
      "cell_type": "code",
      "source": [
        "def main():\n",
        "    fecha_nacimiento = Fecha(15, 6, 1990)\n",
        "    print(f\"Fecha de nacimiento: {fecha_nacimiento}\")\n",
        "\n",
        "    direccion = Direccion(\"Calle Falsa\", \"123\", \"Centro\", \"Madrid\", \"Edificio A\", \"Apto 1B\")\n",
        "    print(f\"Dirección: {direccion}\")\n",
        "\n",
        "    usuario = Usuario(\"Juan Pérez\", 123456, fecha_nacimiento, \"Madrid\", 612345678, \"juan.perez@gmail.com\", direccion)\n",
        "    print(\"\\nInformación del Usuario:\")\n",
        "    print(usuario)\n",
        "\n",
        "    # Crear un nuevo Usuario por consola\n",
        "    print(\"\\n******** Crear nuevo Usuario ********\")\n",
        "    nombre = input(\"Ingrese el nombre del usuario: \")\n",
        "    id = int(input(\"Ingrese el ID del usuario: \"))\n",
        "\n",
        "    dd = int(input(\"Ingrese el día de nacimiento: \"))\n",
        "    mm = int(input(\"Ingrese el mes de nacimiento: \"))\n",
        "    aa = int(input(\"Ingrese el año de nacimiento: \"))\n",
        "    fecha_nacimiento_consola = Fecha(dd, mm, aa)\n",
        "\n",
        "    ciudad_nacimiento = input(\"Ingrese la ciudad de nacimiento: \")\n",
        "    tel = int(input(\"Ingrese el teléfono: \"))\n",
        "    email = input(\"Ingrese el email: \")\n",
        "\n",
        "    calle = input(\"Ingrese la calle: \")\n",
        "    nomenclatura = input(\"Ingrese la nomenclatura: \")\n",
        "    barrio = input(\"Ingrese el barrio: \")\n",
        "    ciudad = input(\"Ingrese la ciudad: \")\n",
        "    edificio = input(\"Ingrese el edificio: \")\n",
        "    apto = input(\"Ingrese el apartamento: \")\n",
        "    direccion_consola = Direccion(calle, nomenclatura, barrio, ciudad, edificio, apto)\n",
        "\n",
        "    usuario_consola = Usuario(nombre, id, fecha_nacimiento_consola, ciudad_nacimiento, tel, email, direccion_consola)\n",
        "\n",
        "    print(\"\\nInformación del nuevo Usuario:\")\n",
        "    print(usuario_consola)\n",
        "\n",
        "main()"
      ],
      "metadata": {
        "colab": {
          "base_uri": "https://localhost:8080/"
        },
        "id": "r_6nPkHw-U_h",
        "outputId": "0504fecc-502f-4854-8492-cdc3f02eecd8"
      },
      "execution_count": null,
      "outputs": [
        {
          "output_type": "stream",
          "name": "stdout",
          "text": [
            "Fecha de nacimiento: 15-06-1990\n",
            "Dirección: Calle Falsa, 123, Centro, Madrid, Edificio Edificio A, Apto Apto 1B\n",
            "\n",
            "Información del Usuario:\n",
            "Nombre: Juan Pérez\n",
            "ID: 123456\n",
            "Fecha de Nacimiento: 15-06-1990\n",
            "Ciudad de Nacimiento: Madrid\n",
            "Teléfono: 612345678\n",
            "Email: juan.perez@example.com\n",
            "Dirección: Calle Falsa, 123, Centro, Madrid, Edificio Edificio A, Apto Apto 1B\n"
          ]
        }
      ]
    }
  ]
}