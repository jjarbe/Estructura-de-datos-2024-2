{
  "nbformat": 4,
  "nbformat_minor": 0,
  "metadata": {
    "colab": {
      "provenance": [],
      "toc_visible": true,
      "collapsed_sections": [
        "jQ4Ahtcak4HL",
        "v1osvKbInH3_",
        "N9Ujd81DnUE8"
      ],
      "include_colab_link": true
    },
    "kernelspec": {
      "name": "python3",
      "display_name": "Python 3"
    },
    "language_info": {
      "name": "python"
    }
  },
  "cells": [
    {
      "cell_type": "markdown",
      "metadata": {
        "id": "view-in-github",
        "colab_type": "text"
      },
      "source": [
        "<a href=\"https://colab.research.google.com/github/jjarbe/Estructura-de-datos-2024-2/blob/main/Laboratorio%20%231/LAB_1_final.ipynb\" target=\"_parent\"><img src=\"https://colab.research.google.com/assets/colab-badge.svg\" alt=\"Open In Colab\"/></a>"
      ]
    },
    {
      "cell_type": "markdown",
      "source": [
        "## ***Programa #1***\n"
      ],
      "metadata": {
        "id": "jQ4Ahtcak4HL"
      }
    },
    {
      "cell_type": "code",
      "execution_count": null,
      "metadata": {
        "colab": {
          "base_uri": "https://localhost:8080/",
          "height": 356
        },
        "id": "1wzqoIq9M1y-",
        "outputId": "479e8268-d0a5-45b3-ed22-6e4b64665ea9"
      },
      "outputs": [
        {
          "output_type": "error",
          "ename": "KeyboardInterrupt",
          "evalue": "Interrupted by user",
          "traceback": [
            "\u001b[0;31m---------------------------------------------------------------------------\u001b[0m",
            "\u001b[0;31mKeyboardInterrupt\u001b[0m                         Traceback (most recent call last)",
            "\u001b[0;32m<ipython-input-9-e7700ec81d6e>\u001b[0m in \u001b[0;36m<cell line: 3>\u001b[0;34m()\u001b[0m\n\u001b[1;32m      1\u001b[0m \u001b[0;31m# Programa 1\u001b[0m\u001b[0;34m\u001b[0m\u001b[0;34m\u001b[0m\u001b[0m\n\u001b[1;32m      2\u001b[0m \u001b[0;34m\u001b[0m\u001b[0m\n\u001b[0;32m----> 3\u001b[0;31m \u001b[0mn\u001b[0m \u001b[0;34m=\u001b[0m \u001b[0mint\u001b[0m\u001b[0;34m(\u001b[0m\u001b[0minput\u001b[0m\u001b[0;34m(\u001b[0m\u001b[0;34m\"Cuantos numeros quieres? \"\u001b[0m\u001b[0;34m)\u001b[0m\u001b[0;34m)\u001b[0m\u001b[0;34m\u001b[0m\u001b[0;34m\u001b[0m\u001b[0m\n\u001b[0m\u001b[1;32m      4\u001b[0m \u001b[0mx\u001b[0m \u001b[0;34m=\u001b[0m \u001b[0;34m[\u001b[0m\u001b[0;34m]\u001b[0m\u001b[0;34m\u001b[0m\u001b[0;34m\u001b[0m\u001b[0m\n\u001b[1;32m      5\u001b[0m \u001b[0;34m\u001b[0m\u001b[0m\n",
            "\u001b[0;32m/usr/local/lib/python3.10/dist-packages/ipykernel/kernelbase.py\u001b[0m in \u001b[0;36mraw_input\u001b[0;34m(self, prompt)\u001b[0m\n\u001b[1;32m    849\u001b[0m                 \u001b[0;34m\"raw_input was called, but this frontend does not support input requests.\"\u001b[0m\u001b[0;34m\u001b[0m\u001b[0;34m\u001b[0m\u001b[0m\n\u001b[1;32m    850\u001b[0m             )\n\u001b[0;32m--> 851\u001b[0;31m         return self._input_request(str(prompt),\n\u001b[0m\u001b[1;32m    852\u001b[0m             \u001b[0mself\u001b[0m\u001b[0;34m.\u001b[0m\u001b[0m_parent_ident\u001b[0m\u001b[0;34m,\u001b[0m\u001b[0;34m\u001b[0m\u001b[0;34m\u001b[0m\u001b[0m\n\u001b[1;32m    853\u001b[0m             \u001b[0mself\u001b[0m\u001b[0;34m.\u001b[0m\u001b[0m_parent_header\u001b[0m\u001b[0;34m,\u001b[0m\u001b[0;34m\u001b[0m\u001b[0;34m\u001b[0m\u001b[0m\n",
            "\u001b[0;32m/usr/local/lib/python3.10/dist-packages/ipykernel/kernelbase.py\u001b[0m in \u001b[0;36m_input_request\u001b[0;34m(self, prompt, ident, parent, password)\u001b[0m\n\u001b[1;32m    893\u001b[0m             \u001b[0;32mexcept\u001b[0m \u001b[0mKeyboardInterrupt\u001b[0m\u001b[0;34m:\u001b[0m\u001b[0;34m\u001b[0m\u001b[0;34m\u001b[0m\u001b[0m\n\u001b[1;32m    894\u001b[0m                 \u001b[0;31m# re-raise KeyboardInterrupt, to truncate traceback\u001b[0m\u001b[0;34m\u001b[0m\u001b[0;34m\u001b[0m\u001b[0m\n\u001b[0;32m--> 895\u001b[0;31m                 \u001b[0;32mraise\u001b[0m \u001b[0mKeyboardInterrupt\u001b[0m\u001b[0;34m(\u001b[0m\u001b[0;34m\"Interrupted by user\"\u001b[0m\u001b[0;34m)\u001b[0m \u001b[0;32mfrom\u001b[0m \u001b[0;32mNone\u001b[0m\u001b[0;34m\u001b[0m\u001b[0;34m\u001b[0m\u001b[0m\n\u001b[0m\u001b[1;32m    896\u001b[0m             \u001b[0;32mexcept\u001b[0m \u001b[0mException\u001b[0m \u001b[0;32mas\u001b[0m \u001b[0me\u001b[0m\u001b[0;34m:\u001b[0m\u001b[0;34m\u001b[0m\u001b[0;34m\u001b[0m\u001b[0m\n\u001b[1;32m    897\u001b[0m                 \u001b[0mself\u001b[0m\u001b[0;34m.\u001b[0m\u001b[0mlog\u001b[0m\u001b[0;34m.\u001b[0m\u001b[0mwarning\u001b[0m\u001b[0;34m(\u001b[0m\u001b[0;34m\"Invalid Message:\"\u001b[0m\u001b[0;34m,\u001b[0m \u001b[0mexc_info\u001b[0m\u001b[0;34m=\u001b[0m\u001b[0;32mTrue\u001b[0m\u001b[0;34m)\u001b[0m\u001b[0;34m\u001b[0m\u001b[0;34m\u001b[0m\u001b[0m\n",
            "\u001b[0;31mKeyboardInterrupt\u001b[0m: Interrupted by user"
          ]
        }
      ],
      "source": [
        "# Programa 1\n",
        "\n",
        "n = int(input(\"Cuantos numeros quieres? \"))\n",
        "x = []\n",
        "\n",
        "for i in range(n):\n",
        "  x.append(int(input(f\"Intraduce el valor {i+1}:  \")))\n",
        "\n",
        "print(f\"\\nLa lista es la siguiente: {x}\\n\")\n",
        "print(f\"El valor maximo es: {max(x)}\\n\")\n",
        "print(f\"El valor minimo es: {min(x)}\\n\")\n",
        "print(f\"La suma de los valores es: {sum(x)}\\n\")\n",
        "print(f\"El valor promedio es: {(sum(x))}\")"
      ]
    },
    {
      "cell_type": "markdown",
      "source": [
        "## ***Programa #2***\n"
      ],
      "metadata": {
        "id": "v1osvKbInH3_"
      }
    },
    {
      "cell_type": "code",
      "source": [
        "# Programa 2\n",
        "\n",
        "archivo = open(\"/content/drive/MyDrive/UNAL/Materias/Est. de datos/test_pr2.txt\")\n",
        "cont = 0\n",
        "\n",
        "for linea in archivo:\n",
        "  palabras = linea.lower().split()\n",
        "  cont += palabras.count(\"en\")\n",
        "\n",
        "print(f\"El archivo contiene {cont} palabras 'en'\")"
      ],
      "metadata": {
        "id": "dQLJ45L8RNXH"
      },
      "execution_count": null,
      "outputs": []
    },
    {
      "cell_type": "markdown",
      "source": [
        "## ***Programa #3***"
      ],
      "metadata": {
        "id": "N9Ujd81DnUE8"
      }
    },
    {
      "cell_type": "code",
      "source": [
        "# Programa 3\n",
        "Dicc = {\n",
        "    \"Juan1223\": \"J12an*.-\",\n",
        "    \"Maria2345\": \"M23a*\",\n",
        "    \"Pablo1459\": \"P14o*\",\n",
        "    \"Ana3456\": \"A34a*\"\n",
        "}\n",
        "\n",
        "def registro():\n",
        "    print(\"\\n********Registro de usuario********\\n\")\n",
        "    usuario = input(\"Introduce el nombre de usuario: \")\n",
        "    contrasena = input(\"Introduce la contraseña: \")\n",
        "    Dicc[usuario] = contrasena\n",
        "    print(\"\\nRegistro exitoso\")\n",
        "    print(Dicc)\n",
        "\n",
        "def iniciarSesion():\n",
        "    cont = 0\n",
        "\n",
        "    print(\"\\n********Iniciar Sesion********\\n\")\n",
        "    for cont in range(3):\n",
        "      usuario = input(\"Introduce el nombre de usuario: \")\n",
        "      contrasena = input(\"Introduce la contraseña: \")\n",
        "      if usuario in Dicc and Dicc[usuario] == contrasena:\n",
        "          return print(\"\\nInicio de sesión exitoso\\n\")\n",
        "      else:\n",
        "          print(f\"\\nIntento {cont+1}: Nombre de usuario o contraseña incorrectos\\n\")\n",
        "\n",
        "    if cont == 3:\n",
        "      print(\"\\nHas superado el numero de intentos\\n\")\n",
        "\n",
        "while True:\n",
        "    print(\"\\n=== Menú Principal ===\")\n",
        "    print(\"1. Registrarse\")\n",
        "    print(\"2. Iniciar Sesión\")\n",
        "    print(\"3. Salir\")\n",
        "    op = input(\"Elige una opción: \")\n",
        "\n",
        "    match op:\n",
        "        case \"1\":\n",
        "            registro()\n",
        "        case \"2\":\n",
        "            iniciarSesion()\n",
        "        case \"3\":\n",
        "            print(\"Saliendo...\")\n",
        "            break\n",
        "        case _:\n",
        "            print(\"Opción no válida. Intenta de nuevo.\")"
      ],
      "metadata": {
        "id": "CLlQvc8eVz0k"
      },
      "execution_count": null,
      "outputs": []
    }
  ]
}